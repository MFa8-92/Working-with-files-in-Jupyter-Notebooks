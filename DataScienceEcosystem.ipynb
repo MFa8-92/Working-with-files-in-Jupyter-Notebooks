{
 "cells": [
  {
   "cell_type": "markdown",
   "id": "acb182aa-09ff-4f73-aed0-c8f381871ed5",
   "metadata": {},
   "source": [
    "# Data Science Tools and Ecosystem\r\n"
   ]
  },
  {
   "cell_type": "markdown",
   "id": "3a089557-b82b-425d-a955-64ce43cfb358",
   "metadata": {},
   "source": [
    "In this notebook, Data Science Tools and Ecosystem are summarized."
   ]
  },
  {
   "cell_type": "markdown",
   "id": "870c25d7-b789-44b9-b158-031362c1da6c",
   "metadata": {},
   "source": [
    "**Objectives:**\n",
    "- Learn the data sciece tool\n",
    "- Learn how to create a Notebook file in Python\n",
    "- Learn the language of R\n",
    "- Learn what GitHub is and why is importnant\n",
    "- What is a repository"
   ]
  },
  {
   "cell_type": "markdown",
   "id": "c5cf34af-da2a-4a4a-a9c3-b3e7e6f23404",
   "metadata": {},
   "source": [
    "Some of the popular languages that Data Scientists use are:\n",
    "\n",
    "**ordered list:**\n",
    "\n",
    "1) Python\n",
    "2) R\n",
    "3) Scala"
   ]
  },
  {
   "cell_type": "markdown",
   "id": "c2159bdf-3580-483b-835a-c13ec1a6da17",
   "metadata": {},
   "source": [
    "Some of the commonly used libraries used by Data Scientists include:\n",
    "\n",
    "**ordered list:**\n",
    "\n",
    "1) Pandas\n",
    "2) Numpay\n",
    "3) ggplot"
   ]
  },
  {
   "cell_type": "markdown",
   "id": "70242609-39a0-4b16-b3e7-fd9345d7f0a2",
   "metadata": {},
   "source": [
    "| Data Science Tools |\n",
    "|--------------------|\n",
    "| GitHub             |\n",
    "| RStudio            |\n",
    "| Anaconda           |"
   ]
  },
  {
   "cell_type": "markdown",
   "id": "3dc4a344-ab3b-4e10-9f4f-b0a1d4a74d47",
   "metadata": {},
   "source": [
    "### Below are a few examples of evaluating arithmetic expressions in Python"
   ]
  },
  {
   "cell_type": "code",
   "execution_count": 7,
   "id": "3ac2751e-ed0c-4aa0-8a2a-d2e6049cd2de",
   "metadata": {},
   "outputs": [
    {
     "data": {
      "text/plain": [
       "17"
      ]
     },
     "execution_count": 7,
     "metadata": {},
     "output_type": "execute_result"
    }
   ],
   "source": [
    "#This a simple arithmetic expression to mutiply then add integers\n",
    "\n",
    "(3*4)+5"
   ]
  },
  {
   "cell_type": "code",
   "execution_count": 8,
   "id": "61cc3b54-c82c-44d6-a892-ecb217eb3c39",
   "metadata": {},
   "outputs": [
    {
     "name": "stdout",
     "output_type": "stream",
     "text": [
      "3.3333333333333335\n"
     ]
    }
   ],
   "source": [
    "#This will convert 200 minutes to hours by diving by 60\n",
    "\n",
    "minutes=200\n",
    "\n",
    "time_in_hours = minutes/60\n",
    "\n",
    "print(time_in_hours)"
   ]
  },
  {
   "cell_type": "markdown",
   "id": "dd695043-2330-4045-8105-936d1d2983e5",
   "metadata": {},
   "source": [
    "## Author\n",
    "\n",
    "Matteo Faotto"
   ]
  },
  {
   "cell_type": "code",
   "execution_count": null,
   "id": "ba6f7883-bf55-4185-aa08-ec576637c4e0",
   "metadata": {},
   "outputs": [],
   "source": []
  }
 ],
 "metadata": {
  "kernelspec": {
   "display_name": "Python 3 (ipykernel)",
   "language": "python",
   "name": "python3"
  },
  "language_info": {
   "codemirror_mode": {
    "name": "ipython",
    "version": 3
   },
   "file_extension": ".py",
   "mimetype": "text/x-python",
   "name": "python",
   "nbconvert_exporter": "python",
   "pygments_lexer": "ipython3",
   "version": "3.11.7"
  }
 },
 "nbformat": 4,
 "nbformat_minor": 5
}
